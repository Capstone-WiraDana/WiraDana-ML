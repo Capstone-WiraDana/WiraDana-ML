{
 "cells": [
  {
   "cell_type": "code",
   "execution_count": 1,
   "metadata": {},
   "outputs": [
    {
     "data": {
      "application/vnd.jupyter.widget-view+json": {
       "model_id": "9c73a7db166747738e280dd252835e25",
       "version_major": 2,
       "version_minor": 0
      },
      "text/plain": [
       "tokenizer_config.json:   0%|          | 0.00/42.0 [00:00<?, ?B/s]"
      ]
     },
     "metadata": {},
     "output_type": "display_data"
    },
    {
     "data": {
      "application/vnd.jupyter.widget-view+json": {
       "model_id": "7683608b25ce4e11a7799b5fed6f7d3d",
       "version_major": 2,
       "version_minor": 0
      },
      "text/plain": [
       "source.spm:   0%|          | 0.00/796k [00:00<?, ?B/s]"
      ]
     },
     "metadata": {},
     "output_type": "display_data"
    },
    {
     "data": {
      "application/vnd.jupyter.widget-view+json": {
       "model_id": "ccb02e068cd6419db56aae27b8aeeba8",
       "version_major": 2,
       "version_minor": 0
      },
      "text/plain": [
       "target.spm:   0%|          | 0.00/801k [00:00<?, ?B/s]"
      ]
     },
     "metadata": {},
     "output_type": "display_data"
    },
    {
     "data": {
      "application/vnd.jupyter.widget-view+json": {
       "model_id": "bc51e7f15e9546cfac7e711d7945441f",
       "version_major": 2,
       "version_minor": 0
      },
      "text/plain": [
       "vocab.json:   0%|          | 0.00/1.26M [00:00<?, ?B/s]"
      ]
     },
     "metadata": {},
     "output_type": "display_data"
    },
    {
     "data": {
      "application/vnd.jupyter.widget-view+json": {
       "model_id": "76df9d35a53f4628a3f35b2141bab41a",
       "version_major": 2,
       "version_minor": 0
      },
      "text/plain": [
       "config.json:   0%|          | 0.00/1.38k [00:00<?, ?B/s]"
      ]
     },
     "metadata": {},
     "output_type": "display_data"
    },
    {
     "name": "stderr",
     "output_type": "stream",
     "text": [
      "c:\\Users\\Pongo\\AppData\\Local\\Programs\\Python\\Python312\\Lib\\site-packages\\transformers\\models\\marian\\tokenization_marian.py:175: UserWarning: Recommended: pip install sacremoses.\n",
      "  warnings.warn(\"Recommended: pip install sacremoses.\")\n"
     ]
    },
    {
     "data": {
      "application/vnd.jupyter.widget-view+json": {
       "model_id": "688bbdc86ff64b5e82d3a9a1062e76e4",
       "version_major": 2,
       "version_minor": 0
      },
      "text/plain": [
       "pytorch_model.bin:   0%|          | 0.00/291M [00:00<?, ?B/s]"
      ]
     },
     "metadata": {},
     "output_type": "display_data"
    },
    {
     "data": {
      "application/vnd.jupyter.widget-view+json": {
       "model_id": "8b8875e865524e009650e59c559a650f",
       "version_major": 2,
       "version_minor": 0
      },
      "text/plain": [
       "generation_config.json:   0%|          | 0.00/293 [00:00<?, ?B/s]"
      ]
     },
     "metadata": {},
     "output_type": "display_data"
    }
   ],
   "source": [
    "from transformers import MarianMTModel, MarianTokenizer\n",
    "\n",
    "model_name = \"Helsinki-NLP/opus-mt-en-id\"\n",
    "tokenizer = MarianTokenizer.from_pretrained(model_name)\n",
    "model = MarianMTModel.from_pretrained(model_name)"
   ]
  },
  {
   "cell_type": "code",
   "execution_count": 2,
   "metadata": {},
   "outputs": [
    {
     "name": "stdout",
     "output_type": "stream",
     "text": [
      "Aku suka produk ini!\n"
     ]
    }
   ],
   "source": [
    "text = \"I love this product!\"\n",
    "translated = model.generate(**tokenizer(text, return_tensors=\"pt\", padding=True))\n",
    "print(tokenizer.decode(translated[0], skip_special_tokens=True))"
   ]
  },
  {
   "cell_type": "code",
   "execution_count": 22,
   "metadata": {},
   "outputs": [
    {
     "name": "stdout",
     "output_type": "stream",
     "text": [
      "                                              Review Sentiment\n",
      "0  This product exceeded my expectations! It's hi...  Positive\n",
      "1  The product was decent. It worked fine, but it...   Neutral\n",
      "2  I had a terrible experience with this company....  Negative\n",
      "3  It's an okay product. Nothing to write home ab...   Neutral\n",
      "4  Disappointed with the product. It didn't meet ...  Negative\n"
     ]
    }
   ],
   "source": [
    "import pandas as pd\n",
    "\n",
    "file_path = \"reviews.csv\"\n",
    "\n",
    "df = pd.read_csv(file_path)\n",
    "\n",
    "print(df.head())"
   ]
  },
  {
   "cell_type": "code",
   "execution_count": 23,
   "metadata": {},
   "outputs": [
    {
     "name": "stdout",
     "output_type": "stream",
     "text": [
      "This product exceeded my expectations! It's high-quality and performs exceptionally well.\n"
     ]
    }
   ],
   "source": [
    "print(df.iloc[0,0])"
   ]
  },
  {
   "cell_type": "code",
   "execution_count": 24,
   "metadata": {},
   "outputs": [
    {
     "data": {
      "text/plain": [
       "386"
      ]
     },
     "execution_count": 24,
     "metadata": {},
     "output_type": "execute_result"
    }
   ],
   "source": [
    "len(df.values)"
   ]
  },
  {
   "cell_type": "code",
   "execution_count": 25,
   "metadata": {},
   "outputs": [
    {
     "name": "stdout",
     "output_type": "stream",
     "text": [
      "Produk ini melebihi harapanku!\n",
      "Produknya baik-baik saja, tapi itu bukan sesuatu yang istimewa.\n",
      "Aku punya pengalaman buruk dengan perusahaan ini layanan pelanggan kasar dan tidak membantu.\n",
      "Itu produk yang bagus, tak ada yang perlu ditulis di rumah.\n",
      "Kecewa dengan produknya, itu tidak sesuai dengan harapanku.\n",
      "Hindari perusahaan ini dengan segala cara, layanannya buruk, dan produknya di bawah standar.\n",
      "Aku punya pengalaman buruk dengan perusahaan ini layanan pelanggan kasar dan tidak membantu.\n",
      "Hindari perusahaan ini dengan segala cara, layanannya buruk, dan produknya di bawah standar.\n",
      "Produk ini melebihi harapanku!\n",
      "Ini adalah apa yang saya cari dan bekerja dengan sempurna.\n",
      "Benar-benar layanan yang mengerikan, tidak akan pernah lagi.\n",
      "Aku punya pengalaman buruk dengan perusahaan ini layanan pelanggan kasar dan tidak membantu.\n",
      "Pengalaman ini baik-baik saja, tidak ada yang istimewa.\n",
      "Produk berkualitas tinggi, sangat memuaskan dengan pembelianku.\n",
      "Saya sangat tidak puas dengan produk ini, produk ini dibuat murah dan tidak berfungsi dengan baik.\n",
      "Layanannya memuaskan, tidak ada yang luar biasa, tapi tidak ada yang buruk juga.\n",
      "Produk itu layak, tapi tidak memenuhi semua harapan saya.\n",
      "Aku tidak akan merekomendasikan produk ini. itu terlalu mahal dan tidak bekerja seperti yang diiklankan.\n",
      "Layanannya memuaskan, tidak ada yang luar biasa, tapi tidak ada yang buruk juga.\n",
      "Pelayanan pelanggan luar biasa! wakilnya ramah dan membantu.\n",
      "Produk itu layak, tapi tidak memenuhi semua harapan saya.\n",
      "Produk kualitas yang bagus, sangat memuaskan.\n",
      "Layanannya memuaskan, tidak ada yang luar biasa, tapi tidak ada yang buruk juga.\n",
      "Layanannya memuaskan, tidak ada yang luar biasa, tapi tidak ada yang buruk juga.\n",
      "Ini adalah apa yang saya cari dan bekerja dengan sempurna.\n",
      "Produk itu layak, tapi tidak memenuhi semua harapan saya.\n",
      "Pelayanannya rata-rata, tidak ada yang baik atau buruk.\n",
      "Aku tidak akan merekomendasikan produk ini. itu terlalu mahal dan tidak bekerja seperti yang diiklankan.\n",
      "Produk ini melebihi harapanku!\n",
      "Produk kualitas yang buruk, tidak sepadan dengan harganya.\n",
      "Layanan pelanggan luar biasa!\n",
      "Hindari perusahaan ini.\n",
      "Saya sangat tidak puas dengan produk ini, produk ini dibuat murah dan tidak berfungsi dengan baik.\n",
      "Ini adalah apa yang saya cari dan bekerja dengan sempurna.\n",
      "Pelayanan pelanggan luar biasa! wakilnya ramah dan membantu.\n",
      "Pelayanannya rata-rata, tidak ada yang baik atau buruk.\n",
      "Aku punya pengalaman buruk dengan perusahaan ini layanan pelanggan kasar dan tidak membantu.\n",
      "Saya sangat tidak puas dengan produk ini, produk ini dibuat murah dan tidak berfungsi dengan baik.\n",
      "Produk ini melebihi harapanku!\n",
      "Produknya baik-baik saja, tapi itu tidak membuatku marah.\n",
      "Pelayanannya rata-rata, tidak ada yang baik atau buruk.\n",
      "Kecewa dengan layanan, tidak dianjurkan.\n",
      "Pelayanan pelanggan luar biasa! wakilnya ramah dan membantu.\n",
      "Para perwakilan yang berpengetahuan dan membantu.\n",
      "Produk yang sangat baik!\n",
      "Hindari perusahaan ini dengan segala cara, layanannya buruk, dan produknya di bawah standar.\n",
      "Aku tidak akan merekomendasikan produk ini. itu terlalu mahal dan tidak bekerja seperti yang diiklankan.\n",
      "Saya tidak akan merekomendasikan produk ini kepada siapa pun.\n",
      "Aku tidak akan merekomendasikan produk ini. itu terlalu mahal dan tidak bekerja seperti yang diiklankan.\n",
      "Produknya biasa-biasa saja, tapi itu bukan sesuatu yang istimewa.\n",
      "Saya sangat tidak puas dengan produk ini, produk ini dibuat murah dan tidak berfungsi dengan baik.\n",
      "Benar-benar pengalaman yang mengerikan.\n",
      "Layanannya memuaskan, tidak ada yang luar biasa, tapi tidak ada yang buruk juga.\n",
      "Pelayanan pelanggan luar biasa! wakilnya ramah dan membantu.\n",
      "Saya sangat tidak puas dengan produk ini, produk ini dibuat murah dan tidak berfungsi dengan baik.\n",
      "Pelayanannya rata-rata, tidak ada yang baik atau buruk.\n",
      "Produk hebat, melebihi harapanku.\n",
      "Layanannya memuaskan, tidak ada yang luar biasa, tapi tidak ada yang buruk juga.\n",
      "Kecewa dengan kualitas produk.\n",
      "Produk itu layak, tapi tidak memenuhi semua harapan saya.\n",
      "Para perwakilan yang berpengetahuan dan membantu.\n",
      "Hindari produk ini.\n",
      "Sangat puas dengan pengalaman.\n",
      "Kualitas barang itu miskin, tidak sebanding dengan uang.\n",
      "Aku tidak akan merekomendasikan produk ini. itu terlalu mahal dan tidak bekerja seperti yang diiklankan.\n",
      "Saya sangat tidak puas dengan produk ini, produk ini dibuat murah dan tidak berfungsi dengan baik.\n",
      "Ini adalah apa yang saya cari dan bekerja dengan sempurna.\n",
      "Pelayanannya rata-rata, tidak ada yang baik atau buruk.\n",
      "Ini adalah apa yang saya cari dan bekerja dengan sempurna.\n",
      "Hindari perusahaan ini dengan segala cara, layanannya buruk, dan produknya di bawah standar.\n",
      "Pelayanan pelanggan luar biasa! wakilnya ramah dan membantu.\n",
      "Pengalaman biasa, baik atau buruk.\n",
      "Pelayanannya rata-rata, tidak ada yang baik atau buruk.\n",
      "Saya sangat tidak puas dengan produk ini, produk ini dibuat murah dan tidak berfungsi dengan baik.\n",
      "Produk itu layak, tapi tidak memenuhi semua harapan saya.\n",
      "Para perwakilan yang berpengetahuan dan membantu.\n",
      "Layanannya memuaskan, tidak ada yang luar biasa, tapi tidak ada yang buruk juga.\n",
      "Layanan terburuk yang pernah kuterima./ Hindari perusahaan ini.\n",
      "Aku punya pengalaman buruk dengan perusahaan ini layanan pelanggan kasar dan tidak membantu.\n",
      "Saya sangat tidak puas dengan produk ini, produk ini dibuat murah dan tidak berfungsi dengan baik.\n",
      "Ini adalah apa yang saya cari dan bekerja dengan sempurna.\n",
      "Aku punya pengalaman buruk dengan perusahaan ini, produknya rusak, dan layanan pelanggan tidak merespon.\n",
      "Pengalaman netral, tidak menonjol.\n",
      "Produk itu layak, tapi aku berharap kualitas yang lebih baik untuk harga.\n",
      "Pelayanan pelanggan luar biasa! wakilnya ramah dan membantu.\n",
      "Pelayanan yang mengesankan!\n",
      "Kualitas produknya biasa-biasa saja.\n",
      "Aku punya pengalaman buruk dengan perusahaan ini.\n",
      "Pelayanan pelanggan luar biasa! wakilnya ramah dan membantu.\n",
      "Pelayanannya rata-rata, tidak ada yang baik atau buruk.\n",
      "Produk yang sangat bagus!\n",
      "Pelayanannya rata-rata, tidak ada yang baik atau buruk.\n",
      "Saya sangat tidak puas dengan produk ini, produk ini dibuat murah dan tidak berfungsi dengan baik.\n",
      "Benar-benar layanan yang mengerikan, tidak akan pernah lagi.\n",
      "Ini adalah apa yang saya cari dan bekerja dengan sempurna.\n",
      "Produk ini melebihi harapanku!\n",
      "Produknya tidak baik atau buruk.\n",
      "Layanannya memuaskan, tidak ada yang luar biasa, tapi tidak ada yang buruk juga.\n",
      "Produk itu layak, tapi tidak memenuhi semua harapan saya.\n",
      "Aku menyesal membeli produk ini, dibuat buruk dan tidak bekerja seperti yang diiklankan.\n",
      "Aku punya pengalaman buruk dengan perusahaan ini layanan pelanggan kasar dan tidak membantu.\n",
      "Terkesan dengan layanan pelanggan, pasti akan kembali.\n",
      "Kualitas produknya biasa-biasa saja.\n",
      "Produk itu layak, tapi tidak memenuhi semua harapan saya.\n",
      "Layanan yang luar biasa!\n",
      "Produk itu layak, tapi tidak memenuhi semua harapan saya.\n",
      "Produk itu layak, tapi tidak memenuhi semua harapan saya.\n",
      "Produk biasa, tak ada yang istimewa.\n",
      "Para perwakilan yang berpengetahuan dan membantu.\n",
      "Produknya baik-baik saja, tapi itu bukan sesuatu yang istimewa.\n",
      "Produk itu layak, tapi tidak memenuhi semua harapan saya.\n",
      "Pelayanannya rata-rata, tidak ada yang baik atau buruk.\n",
      "Layanan pelanggan yang luar biasa!\n",
      "Aku punya pengalaman buruk dengan perusahaan ini layanan pelanggan kasar dan tidak membantu.\n",
      "Produk ini melebihi harapanku!\n",
      "Hindari produk ini.\n",
      "Layanannya memuaskan, tidak ada yang luar biasa, tapi tidak ada yang buruk juga.\n",
      "Produknya baik-baik saja, tapi itu bukan sesuatu yang istimewa.\n",
      "Saya sangat tidak puas dengan produk ini, produk ini dibuat murah dan tidak berfungsi dengan baik.\n",
      "Produk ini melebihi harapanku!\n",
      "Produk itu layak, tapi tidak memenuhi semua harapan saya.\n",
      "Pelayanan pelanggan luar biasa! wakilnya ramah dan membantu.\n",
      "Hindari perusahaan ini dengan segala cara, layanannya buruk, dan produknya di bawah standar.\n",
      "Pelayanan pelanggan luar biasa! wakilnya ramah dan membantu.\n",
      "Hanya pengalaman biasa, tidak ada yang istimewa.\n",
      "Tidak buruk, tapi juga tidak bagus.\n",
      "Saya sangat puas dengan pembelian saya produk ini adalah apa yang saya butuhkan, dan layanan pelanggan yang fantastis.\n",
      "Produknya layak, bisa jadi lebih baik.\n",
      "Pelayanan pelanggan luar biasa! wakilnya ramah dan membantu.\n",
      "Aku punya pengalaman buruk dengan perusahaan ini layanan pelanggan kasar dan tidak membantu.\n",
      "Layanannya memuaskan, tidak ada yang luar biasa, tapi tidak ada yang buruk juga.\n",
      "Layanan yang luar biasa, sangat menyenangkan.\n",
      "Pelayanannya rata-rata, tidak ada yang baik atau buruk.\n",
      "Saya sangat tidak puas dengan produk ini, produk ini dibuat murah dan tidak berfungsi dengan baik.\n",
      "Produk itu layak, tapi tidak memenuhi semua harapan saya.\n",
      "Ini adalah apa yang saya cari dan bekerja dengan sempurna.\n",
      "Produk itu layak, tapi tidak memenuhi semua harapan saya.\n",
      "Layanannya memuaskan, tidak ada yang luar biasa, tapi tidak ada yang buruk juga.\n",
      "Produk itu layak, tapi tidak memenuhi semua harapan saya.\n",
      "Pelayanan pelanggan luar biasa! wakilnya ramah dan membantu.\n",
      "Hindari perusahaan ini dengan segala cara, layanannya buruk, dan produknya di bawah standar.\n",
      "Aku tidak akan merekomendasikan produk ini. itu terlalu mahal dan tidak bekerja seperti yang diiklankan.\n",
      "Layanannya memuaskan, tidak ada yang luar biasa, tapi tidak ada yang buruk juga.\n",
      "Para perwakilan yang berpengetahuan dan membantu.\n",
      "Produknya baik-baik saja, tapi itu bukan sesuatu yang istimewa.\n",
      "Pelayanannya rata-rata, tidak ada yang baik atau buruk.\n",
      "Hindari perusahaan ini dengan segala cara.\n",
      "Produk biasa-biasa saja.\n",
      "Aku punya pengalaman buruk dengan perusahaan ini layanan pelanggan kasar dan tidak membantu.\n",
      "Aku menyesal membeli produk ini, tapi kualitasnya buruk.\n",
      "Para perwakilan yang berpengetahuan dan membantu.\n",
      "Pelayanan pelanggan luar biasa! wakilnya ramah dan membantu.\n",
      "Para perwakilan yang berpengetahuan dan membantu.\n",
      "Ini adalah apa yang saya cari dan bekerja dengan sempurna.\n",
      "Aku punya pengalaman buruk dengan perusahaan ini layanan pelanggan kasar dan tidak membantu.\n",
      "Aku tidak akan merekomendasikan produk ini. itu terlalu mahal dan tidak bekerja seperti yang diiklankan.\n",
      "Aku punya pengalaman buruk dengan perusahaan ini layanan pelanggan kasar dan tidak membantu.\n",
      "Produk ini melebihi harapanku!\n",
      "Produk ini melebihi harapanku!\n",
      "Layanannya memuaskan, tidak ada yang luar biasa, tapi tidak ada yang buruk juga.\n",
      "Produk yang luar biasa!\n",
      "Saya sangat tidak puas dengan produk ini, produk ini dibuat murah dan tidak berfungsi dengan baik.\n",
      "Pelayanan pelanggan luar biasa! wakilnya ramah dan membantu.\n",
      "Produk yang luar biasa, memenuhi semua harapan saya.\n",
      "Produknya baik-baik saja, tapi itu bukan sesuatu yang istimewa.\n",
      "Menyesal membeli produk ini.\n",
      "Pelayanannya rata-rata, tidak ada yang baik atau buruk.\n",
      "Produk itu layak, tapi tidak memenuhi semua harapan saya.\n",
      "Produk yang layak, bisa saja lebih baik.\n",
      "Kualitas netral, hanya rata-rata.\n",
      "Ini produk yang bagus, tak ada yang istimewa.\n",
      "Pengalaman itu tidak baik atau buruk.\n",
      "Aku punya pengalaman buruk dengan perusahaan ini layanan pelanggan kasar dan tidak membantu.\n",
      "Pelayanan pelanggan luar biasa! wakilnya ramah dan membantu.\n",
      "Ini adalah apa yang saya cari dan bekerja dengan sempurna.\n",
      "Pelayanan pelanggan luar biasa! wakilnya ramah dan membantu.\n",
      "Para perwakilan yang berpengetahuan dan membantu.\n",
      "Layanan luar biasa!\n",
      "Produk itu layak, tapi tidak memenuhi semua harapan saya.\n",
      "Para perwakilan yang berpengetahuan dan membantu.\n",
      "Produk itu layak, tapi tidak memenuhi semua harapan saya.\n",
      "Aku tidak akan merekomendasikan produk ini. itu terlalu mahal dan tidak bekerja seperti yang diiklankan.\n",
      "Para perwakilan yang berpengetahuan dan membantu.\n",
      "Pengalaman yang mengerikan. / Tidak merekomendasikan.\n",
      "Aku punya pengalaman buruk dengan perusahaan ini layanan pelanggan kasar dan tidak membantu.\n",
      "Para perwakilan yang berpengetahuan dan membantu.\n",
      "Ini adalah produk rata-rata, tidak terkesan atau kecewa.\n",
      "Saya sangat kecewa dengan produk ini.\n",
      "Aku tidak akan merekomendasikan produk ini. itu terlalu mahal dan tidak bekerja seperti yang diiklankan.\n",
      "Aku punya pengalaman buruk dengan perusahaan ini layanan pelanggan kasar dan tidak membantu.\n",
      "Benar-benar pengalaman yang mengerikan.\n",
      "Hindari perusahaan ini dengan segala cara, layanannya buruk, dan produknya di bawah standar.\n",
      "Ini adalah apa yang saya cari dan bekerja dengan sempurna.\n",
      "Ini adalah apa yang saya cari dan bekerja dengan sempurna.\n",
      "Hindari perusahaan ini dengan segala cara, layanannya buruk, dan produknya di bawah standar.\n",
      "Layanan luar biasa!\n",
      "Hanya produk yang bagus, tidak ada yang luar biasa.\n",
      "produk yang mengerikan. jangan membelinya.\n",
      "Hindari perusahaan ini dengan segala cara, layanannya buruk, dan produknya di bawah standar.\n",
      "Saya sangat tidak puas dengan produk ini, produk ini dibuat murah dan tidak berfungsi dengan baik.\n",
      "Produk itu layak, tapi tidak memenuhi semua harapan saya.\n",
      "Itu produk biasa./ Tak terlalu terkesan.\n",
      "Para perwakilan yang berpengetahuan dan membantu.\n",
      "Saya memiliki pengalaman yang sangat baik dengan perusahaan ini, layanan pelanggan sangat luar biasa, dan produk ini melebihi harapan saya.\n",
      "Layanannya memuaskan, tidak ada yang luar biasa, tapi tidak ada yang buruk juga.\n",
      "Aku tidak akan merekomendasikan produk ini. itu terlalu mahal dan tidak bekerja seperti yang diiklankan.\n",
      "Produknya baik-baik saja, tapi itu bukan sesuatu yang istimewa.\n",
      "Para perwakilan yang berpengetahuan dan membantu.\n",
      "Layanannya memuaskan, tidak ada yang luar biasa, tapi tidak ada yang buruk juga.\n",
      "Aku punya pengalaman buruk dengan perusahaan ini layanan pelanggan kasar dan tidak membantu.\n",
      "Aku punya pengalaman buruk dengan perusahaan ini layanan pelanggan kasar dan tidak membantu.\n",
      "Aku tidak akan merekomendasikan produk ini. itu terlalu mahal dan tidak bekerja seperti yang diiklankan.\n",
      "Produk yang luar biasa, pasti akan dibeli lagi.\n",
      "Aku tidak akan merekomendasikan produk ini. itu terlalu mahal dan tidak bekerja seperti yang diiklankan.\n",
      "Hanya pengalaman biasa-biasa saja, tidak ada yang luar biasa.\n",
      "Produk ini melebihi harapanku!\n",
      "Hindari perusahaan ini dengan segala cara, layanannya buruk, dan produknya di bawah standar.\n",
      "Produknya baik-baik saja, tapi itu bukan sesuatu yang istimewa.\n",
      "Hindari perusahaan ini dengan segala cara, layanannya buruk, dan produknya di bawah standar.\n",
      "Pelayanannya rata-rata, tidak ada yang baik atau buruk.\n",
      "Terkesan dengan produk. akan membeli lagi.\n",
      "Produk netral, baik baik atau buruk.\n",
      "Produknya baik-baik saja, tapi itu bukan sesuatu yang istimewa.\n",
      "Hindari perusahaan ini.\n",
      "Benar-benar layanan mengerikan! staf kasar dan tidak membantu. aku tidak akan pernah berbelanja di sini lagi.\n",
      "Hanya produk biasa, tidak ada yang luar biasa.\n",
      "Ini adalah apa yang saya cari dan bekerja dengan sempurna.\n",
      "Menjauhlah dari perusahaan ini.\n",
      "Produknya baik-baik saja, tapi itu bukan sesuatu yang istimewa.\n",
      "Para perwakilan yang berpengetahuan dan membantu.\n",
      "Para perwakilan yang berpengetahuan dan membantu.\n",
      "Produk yang brilian, melebihi harapanku.\n",
      "Ini adalah apa yang saya cari dan bekerja dengan sempurna.\n",
      "Hindari perusahaan ini dengan segala cara, layanannya buruk, dan produknya di bawah standar.\n",
      "Aku punya pengalaman buruk dengan perusahaan ini layanan pelanggan kasar dan tidak membantu.\n",
      "Pelayanan pelanggan luar biasa! wakilnya ramah dan membantu.\n",
      "Aku tidak akan merekomendasikan produk ini. itu terlalu mahal dan tidak bekerja seperti yang diiklankan.\n",
      "Saya sangat tidak puas dengan produk ini, produk ini dibuat murah dan tidak berfungsi dengan baik.\n",
      "Pelayanan luar biasa, sangat dianjurkan.\n",
      "Layanan pelanggan yang mengesankan!\n",
      "Aku tidak akan merekomendasikan produk ini. itu terlalu mahal dan tidak bekerja seperti yang diiklankan.\n",
      "Aku punya pengalaman buruk dengan perusahaan ini layanan pelanggan kasar dan tidak membantu.\n",
      "Aku terkejut dengan kualitas dan perhatian detail.\n",
      "Produk ini melebihi harapanku!\n",
      "Produk ini melebihi harapanku!\n",
      "Tidak akan merekomendasikan produk ini kepada siapa pun.\n",
      "Para perwakilan yang berpengetahuan dan membantu.\n",
      "Pengalaman netral, baik baik atau buruk.\n",
      "Aku punya pengalaman buruk dengan perusahaan ini layanan pelanggan kasar dan tidak membantu.\n",
      "Saya sangat tidak puas dengan produk ini, produk ini dibuat murah dan tidak berfungsi dengan baik.\n",
      "Pengirimannya terlambat, dan produknya rusak.\n",
      "Baik baik atau buruk pengalaman.\n",
      "Pengalaman netral, baik baik atau buruk.\n",
      "Produknya baik-baik saja, tapi itu bukan sesuatu yang istimewa.\n",
      "Produknya baik-baik saja, tapi itu bukan sesuatu yang istimewa.\n",
      "Saya sangat tidak puas dengan produk ini, produk ini dibuat murah dan tidak berfungsi dengan baik.\n",
      "Aku suka produknya, melebihi harapanku.\n",
      "Layanan pelanggan mengerikan Hindari di semua biaya.\n",
      "Kualitas yang luar biasa!\n",
      "Tidak terkesan atau kecewa dengan produknya.\n",
      "Pelayanannya rata-rata, tidak ada yang baik atau buruk.\n",
      "Layanannya memuaskan, tidak ada yang luar biasa, tapi tidak ada yang buruk juga.\n",
      "Produknya baik-baik saja, tapi itu bukan sesuatu yang istimewa.\n",
      "Hindari perusahaan ini seperti wabah. dan produknya terlalu mahal.\n",
      "Pengalaman saya adalah rata-rata. produk ini tidak mengesankan atau mengecewakan.\n",
      "Staf yang kasar dan tidak profesional.\n",
      "Produk ini melebihi harapanku!\n",
      "Pelayanan luar biasa, tidak bisa lebih bahagia.\n",
      "Pelayanan pelanggan luar biasa! wakilnya ramah dan membantu.\n",
      "Produk itu layak, tapi tidak memenuhi semua harapan saya.\n",
      "Produk rata-rata, tidak memenuhi harapan.\n",
      "Aku sangat terkesan dengan keahlian dan perhatian dari detail.\n",
      "Aku tidak akan merekomendasikan produk ini. itu terlalu mahal dan tidak bekerja seperti yang diiklankan.\n",
      "Pelayanannya rata-rata, tidak ada yang baik atau buruk.\n",
      "Pengalaman besar secara keseluruhan, produknya datang tepat waktu dan persis seperti yang dijelaskan.\n",
      "Pelayanan yang luar biasa!\n",
      "Para perwakilan yang berpengetahuan dan membantu.\n",
      "Hindari perusahaan ini dengan segala cara, layanannya buruk, dan produknya di bawah standar.\n",
      "Aku tidak akan merekomendasikan produk ini. itu terlalu mahal dan tidak bekerja seperti yang diiklankan.\n",
      "Aku punya pengalaman buruk dengan perusahaan ini layanan pelanggan kasar dan tidak membantu.\n",
      "Produk ini melebihi harapanku!\n",
      "Itu pengalaman biasa, tak ada yang penting.\n",
      "Layanan pelanggan yang sangat baik, sangat dianjurkan.\n",
      "Produknya baik-baik saja, tapi itu bukan sesuatu yang istimewa.\n",
      "Pelayanannya rata-rata, tidak ada yang baik atau buruk.\n",
      "Produk ini melebihi harapanku!\n",
      "Ini adalah apa yang saya cari dan bekerja dengan sempurna.\n",
      "Hindari perusahaan ini dengan segala cara, layanannya buruk, dan produknya di bawah standar.\n",
      "Aku tidak akan merekomendasikan produk ini. itu terlalu mahal dan tidak bekerja seperti yang diiklankan.\n",
      "Para perwakilan yang berpengetahuan dan membantu.\n",
      "Layanan top-notch!\n",
      "Hindari perusahaan ini dengan segala cara, layanannya buruk, dan produknya di bawah standar.\n",
      "Layanannya memuaskan, tidak ada yang luar biasa, tapi tidak ada yang buruk juga.\n",
      "Layanan pelanggan terburuk yang pernah kutemui.\n",
      "Ini adalah apa yang saya cari dan bekerja dengan sempurna.\n",
      "Pelayanan pelanggan luar biasa! wakilnya ramah dan membantu.\n",
      "Produk ini melebihi harapanku!\n",
      "Saya sangat tidak puas dengan produk ini, produk ini dibuat murah dan tidak berfungsi dengan baik.\n",
      "Pelayanannya rata-rata, tidak ada yang baik atau buruk.\n",
      "Ini adalah apa yang saya cari dan bekerja dengan sempurna.\n",
      "Tidak ada yang luar biasa, tapi tidak ada yang mengerikan juga.\n",
      "Sangat terkesan dengan layanannya, pasti akan kembali.\n",
      "Saya sangat tidak puas dengan produk ini, produk ini dibuat murah dan tidak berfungsi dengan baik.\n",
      "Para perwakilan yang berpengetahuan dan membantu.\n",
      "Pelayanan pelanggan luar biasa! wakilnya ramah dan membantu.\n",
      "Ini adalah apa yang saya cari dan bekerja dengan sempurna.\n",
      "Hindari perusahaan ini dengan segala cara, layanannya buruk, dan produknya di bawah standar.\n",
      "Produk ini melebihi harapanku!\n",
      "Aku senang dengan pembelianku!\n",
      "Hindari perusahaan ini dengan segala cara, layanannya buruk, dan produknya di bawah standar.\n",
      "Layanan yang mengecewakan. tidak akan merekomendasikan.\n",
      "Aku tidak akan merekomendasikan produk ini. itu terlalu mahal dan tidak bekerja seperti yang diiklankan.\n",
      "Aku tidak akan merekomendasikan produk ini. itu terlalu mahal dan tidak bekerja seperti yang diiklankan.\n",
      "Ini adalah apa yang saya cari dan bekerja dengan sempurna.\n",
      "Layanannya memuaskan, tidak ada yang luar biasa, tapi tidak ada yang buruk juga.\n",
      "Pelayanannya rata-rata, tidak ada yang baik atau buruk.\n",
      "Saya sangat tidak puas dengan produk ini, produk ini dibuat murah dan tidak berfungsi dengan baik.\n",
      "Produknya baik-baik saja, tapi itu bukan sesuatu yang istimewa.\n",
      "Layanannya memuaskan, tidak ada yang luar biasa, tapi tidak ada yang buruk juga.\n",
      "Hindari perusahaan ini dengan segala cara, layanannya buruk, dan produknya di bawah standar.\n",
      "Pengalaman besar secara keseluruhan, sangat dianjurkan.\n",
      "Layanan pelanggan luar biasa!\n",
      "Bisa jadi pengalaman yang lebih baik.\n",
      "Layanan pelanggan yang luar biasa!\n",
      "Staf ini pergi ke atas dan ke luar untuk membantu saya dengan masalah saya.\n",
      "Pelayanannya rata-rata, tidak ada yang baik atau buruk.\n",
      "Pelayanan pelanggan luar biasa! wakilnya ramah dan membantu.\n",
      "Pelayanan yang luar biasa!\n",
      "Menjauhlah dari perusahaan ini.\n",
      "Produknya baik-baik saja, tapi itu bukan sesuatu yang istimewa.\n",
      "Saya kagum melihat seberapa baik produk ini bekerja dan bagaimana tahan lama itu.\n",
      "Aku punya pengalaman buruk dengan perusahaan ini layanan pelanggan kasar dan tidak membantu.\n",
      "Layanannya memuaskan, tidak ada yang luar biasa, tapi tidak ada yang buruk juga.\n",
      "Tidak puas atau tidak puas dengan pengalaman itu.\n",
      "Pengalaman yang baik dan tidak buruk.\n",
      "Produk itu layak, tapi tidak memenuhi semua harapan saya.\n",
      "Produk terburuk yang pernah ada.\n",
      "Aku tidak akan pernah kembali lagi.\n",
      "Produknya baik-baik saja, tapi itu bukan sesuatu yang istimewa.\n",
      "Produk ini melebihi harapanku!\n",
      "Layanannya memuaskan, tidak ada yang luar biasa, tapi tidak ada yang buruk juga.\n",
      "Pelayanannya rata-rata, tidak ada yang baik atau buruk.\n",
      "Produk yang layak, tidak ada yang luar biasa.\n",
      "Produk itu layak, tapi tidak memenuhi semua harapan saya.\n",
      "Produk ini melebihi harapanku!\n",
      "Ini adalah apa yang saya cari dan bekerja dengan sempurna.\n",
      "Hindari perusahaan ini dengan segala cara, layanannya buruk, dan produknya di bawah standar.\n",
      "Produk netral, baik baik atau buruk.\n",
      "Para perwakilan yang berpengetahuan dan membantu.\n",
      "Produk terburuk yang pernah kubeli.\n",
      "Produk ini melebihi harapanku!\n",
      "Produk itu layak, tapi tidak memenuhi semua harapan saya.\n",
      "Saya sangat tidak puas dengan produk ini, produk ini dibuat murah dan tidak berfungsi dengan baik.\n",
      "Para perwakilan yang ramah dan membantu, dan mereka memecahkan masalah saya dengan cepat.\n",
      "Layanannya memuaskan, tidak ada yang luar biasa, tapi tidak ada yang buruk juga.\n",
      "Layanan terburuk yang pernah saya terima Hindari di semua biaya.\n",
      "Pengirimannya terlambat dan kemasannya rusak.\n",
      "Produknya baik-baik saja, tapi itu bukan sesuatu yang istimewa.\n",
      "Hindari perusahaan ini dengan segala cara, layanannya buruk, dan produknya di bawah standar.\n",
      "Para perwakilan yang berpengetahuan dan membantu.\n",
      "Produk ini melebihi harapanku!\n",
      "Hindari perusahaan ini dengan segala cara, layanannya buruk, dan produknya di bawah standar.\n",
      "Ini adalah apa yang saya cari dan bekerja dengan sempurna.\n",
      "Pelayanan pelanggan luar biasa! wakilnya ramah dan membantu.\n",
      "Aku tidak akan merekomendasikan produk ini. itu terlalu mahal dan tidak bekerja seperti yang diiklankan.\n",
      "Hindari perusahaan ini, layanan pelanggan yang buruk.\n",
      "Pelayanannya rata-rata, tidak ada yang baik atau buruk.\n",
      "Aku tidak akan merekomendasikan produk ini. itu terlalu mahal dan tidak bekerja seperti yang diiklankan.\n",
      "Produknya baik-baik saja, tapi itu bukan sesuatu yang istimewa.\n",
      "Aku punya pengalaman buruk dengan perusahaan ini layanan pelanggan kasar dan tidak membantu.\n",
      "Aku tidak akan merekomendasikan produk ini. itu terlalu mahal dan tidak bekerja seperti yang diiklankan.\n",
      "Pelayanan pelanggan luar biasa! wakilnya ramah dan membantu.\n",
      "Pelayanannya rata-rata, tidak ada yang baik atau buruk.\n",
      "Produknya baik-baik saja, tapi itu bukan sesuatu yang istimewa.\n",
      "Produk ini melebihi harapanku!\n",
      "Hindari perusahaan ini dengan segala cara, layanannya buruk, dan produknya di bawah standar.\n",
      "Produk netral. tidak memenuhi harapan.\n",
      "Saya sangat tidak puas dengan produk ini, produk ini dibuat murah dan tidak berfungsi dengan baik.\n",
      "Para perwakilan yang berpengetahuan dan membantu.\n",
      "Produknya baik-baik saja, tapi itu bukan sesuatu yang istimewa.\n",
      "Hindari produk ini, ini benar-benar buang-buang uang.\n",
      "Saya sangat tidak puas dengan produk ini, produk ini dibuat murah dan tidak berfungsi dengan baik.\n",
      "Produknya baik-baik saja, tapi itu bukan sesuatu yang istimewa.\n",
      "Ini adalah apa yang saya cari dan bekerja dengan sempurna.\n",
      "Produknya baik-baik saja, tapi itu bukan sesuatu yang istimewa.\n",
      "Pengalamanku tidak baik atau buruk. dan layanannya tidak biasa.\n"
     ]
    }
   ],
   "source": [
    "for el in df.values:\n",
    "    text = el[0]\n",
    "    translated = model.generate(**tokenizer(text, return_tensors=\"pt\", padding=True))\n",
    "    translatedText = tokenizer.decode(translated[0], skip_special_tokens=True)\n",
    "    print(translatedText)\n",
    "    new_row = pd.DataFrame({'Review': [translatedText], 'Sentiment': [el[1]]})\n",
    "    df = pd.concat([df, new_row], ignore_index=True)"
   ]
  },
  {
   "cell_type": "code",
   "execution_count": 27,
   "metadata": {},
   "outputs": [
    {
     "data": {
      "text/plain": [
       "772"
      ]
     },
     "execution_count": 27,
     "metadata": {},
     "output_type": "execute_result"
    }
   ],
   "source": [
    "len(df.values)"
   ]
  },
  {
   "cell_type": "code",
   "execution_count": 28,
   "metadata": {},
   "outputs": [],
   "source": [
    "df_randomized = df.sample(frac=1).reset_index(drop=True)"
   ]
  },
  {
   "cell_type": "code",
   "execution_count": 35,
   "metadata": {},
   "outputs": [
    {
     "data": {
      "text/plain": [
       "0      I had a terrible experience with this company....\n",
       "1      Hindari perusahaan ini dengan segala cara, lay...\n",
       "2      Pelayanannya rata-rata, tidak ada yang baik at...\n",
       "3      This product exceeded my expectations! It's hi...\n",
       "4      Disappointed with the product quality. Not as ...\n",
       "                             ...                        \n",
       "767    The product was decent. It worked fine, but it...\n",
       "768    Pelayanannya rata-rata, tidak ada yang baik at...\n",
       "769    Ini adalah apa yang saya cari dan bekerja deng...\n",
       "770    Pelayanan pelanggan luar biasa! wakilnya ramah...\n",
       "771                   Pengalaman netral, tidak menonjol.\n",
       "Name: Review, Length: 772, dtype: object"
      ]
     },
     "execution_count": 35,
     "metadata": {},
     "output_type": "execute_result"
    }
   ],
   "source": [
    "df_randomized[\"Review\"]"
   ]
  },
  {
   "cell_type": "code",
   "execution_count": 33,
   "metadata": {},
   "outputs": [],
   "source": [
    "df_randomized['Review'] = df_randomized['Review'].str.replace('\"', '', regex=False)"
   ]
  },
  {
   "cell_type": "code",
   "execution_count": 36,
   "metadata": {},
   "outputs": [],
   "source": [
    "df_randomized.to_csv('data.csv', index=False)"
   ]
  }
 ],
 "metadata": {
  "kernelspec": {
   "display_name": "Python 3",
   "language": "python",
   "name": "python3"
  },
  "language_info": {
   "codemirror_mode": {
    "name": "ipython",
    "version": 3
   },
   "file_extension": ".py",
   "mimetype": "text/x-python",
   "name": "python",
   "nbconvert_exporter": "python",
   "pygments_lexer": "ipython3",
   "version": "3.12.0"
  }
 },
 "nbformat": 4,
 "nbformat_minor": 2
}
